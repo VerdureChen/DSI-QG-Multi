{
 "cells": [
  {
   "cell_type": "code",
   "execution_count": 1,
   "id": "dfcc0465",
   "metadata": {},
   "outputs": [],
   "source": [
    "# follow DSI-QG\n",
    "# you need to prepare train and dev query files and qrel files."
   ]
  },
  {
   "cell_type": "code",
   "execution_count": 3,
   "id": "03640f21",
   "metadata": {},
   "outputs": [],
   "source": [
    "import json\n",
    "import random\n",
    "import os\n",
    "import datasets\n",
    "\n",
    "random.seed(313)"
   ]
  },
  {
   "cell_type": "code",
   "execution_count": 4,
   "id": "d1516bc0",
   "metadata": {},
   "outputs": [],
   "source": [
    "# MS 100k config\n",
    "NUM_TRAIN = 93020\n",
    "NUM_EVAL = 6980\n",
    "save_dir = '../data/msmarco_data/100k'\n",
    "if not os.path.exists(save_dir):\n",
    "    os.makedirs(save_dir)"
   ]
  },
  {
   "cell_type": "code",
   "execution_count": 5,
   "id": "88bb8a65",
   "metadata": {},
   "outputs": [],
   "source": [
    "def read_query(file):\n",
    "    dict = {}\n",
    "    with open(file, 'r') as f:\n",
    "        for line in f:\n",
    "            qid, text = line.split('\\t')\n",
    "            dict[qid] = text.strip()\n",
    "    return dict\n",
    "\n",
    "\n",
    "def read_qrel(file):\n",
    "    dict = {}\n",
    "    with open(file, 'r') as f:\n",
    "        for line in f:\n",
    "            qid, _, docid, _ = line.split('\\t')\n",
    "            docid = int(docid)\n",
    "            if docid not in dict:\n",
    "                dict[docid] = [qid]\n",
    "            else:\n",
    "                dict[docid].append(qid)\n",
    "    return dict"
   ]
  },
  {
   "cell_type": "code",
   "execution_count": 10,
   "id": "d5025885",
   "metadata": {},
   "outputs": [
    {
     "name": "stderr",
     "output_type": "stream",
     "text": [
      "Found cached dataset msmarco-passage-corpus (/home/chenxiaoyang/swp_DSI/axv_DSI/notebooks/cache/Tevatron___msmarco-passage-corpus/default/0.0.1/3d8add51914a7d2b589d09e37f4cd9646ebe4a3bad6d59b4e3702cfcc9941f23)\n"
     ]
    },
    {
     "data": {
      "application/vnd.jupyter.widget-view+json": {
       "model_id": "b2366c02562d49d1a476a3b7ec87af65",
       "version_major": 2,
       "version_minor": 0
      },
      "text/plain": [
       "  0%|          | 0/1 [00:00<?, ?it/s]"
      ]
     },
     "metadata": {},
     "output_type": "display_data"
    }
   ],
   "source": [
    "DSI_train_data = []\n",
    "DSI_dev_data = []\n",
    "corpus_data = []\n",
    "\n",
    "data = datasets.load_dataset('Tevatron/msmarco-passage-corpus', cache_dir='cache')['train']\n",
    "corpus = [item for item in data]\n",
    "random.shuffle(corpus)\n",
    "dev_query = read_query('../data/msmarco_data/dev.query.tsv')\n",
    "dev_qrel = read_qrel('../data/msmarco_data/qrels.dev.small.tsv')\n",
    "train_query = read_query('../data/msmarco_data/train.query.tsv')\n",
    "train_qrel = read_qrel('../data/msmarco_data/qrels.train.tsv')\n",
    "\n",
    "train_ids = list(train_qrel.keys())\n",
    "random.shuffle(train_ids)\n",
    "train_ids = train_ids[:NUM_TRAIN]\n",
    "dev_ids = list(set(dev_qrel.keys()).difference(set(train_qrel.keys())))  # make sure no data leakage\n",
    "random.shuffle(dev_ids)\n",
    "dev_ids = dev_ids[:NUM_EVAL]\n",
    "\n",
    "rand_ids = list(range(NUM_TRAIN + NUM_EVAL))\n",
    "random.shuffle(rand_ids)"
   ]
  },
  {
   "cell_type": "code",
   "execution_count": 11,
   "id": "5766ead6",
   "metadata": {},
   "outputs": [],
   "source": [
    "current_ind = 0\n",
    "for docid in train_ids:\n",
    "    passage = data[docid]['text']\n",
    "    question = train_query[train_qrel[docid][0]]\n",
    "\n",
    "    DSI_train_data.append({'text_id': rand_ids[current_ind], 'text': 'Passage: ' + passage})\n",
    "    DSI_train_data.append({'text_id': rand_ids[current_ind], 'text': 'Question: ' + question})\n",
    "    corpus_data.append(f\"{rand_ids[current_ind]}\\t{passage}\")\n",
    "    current_ind += 1\n",
    "\n",
    "for item in corpus:\n",
    "    if current_ind >= NUM_TRAIN:\n",
    "        break\n",
    "    passage = item['text']\n",
    "    DSI_train_data.append({'text_id': rand_ids[current_ind],\n",
    "                           \"text\": f\"Passage: {passage}\"})\n",
    "    corpus_data.append(f\"{rand_ids[current_ind]}\\t{passage}\")\n",
    "    current_ind += 1\n",
    "\n",
    "for docid in dev_ids:\n",
    "    passage = data[docid]['text']\n",
    "    question = dev_query[dev_qrel[docid][0]]\n",
    "\n",
    "    if len(DSI_dev_data) < NUM_EVAL:\n",
    "        DSI_train_data.append({'text_id': rand_ids[current_ind],\n",
    "                               \"text\": f\"Passage: {passage}\"})\n",
    "        DSI_dev_data.append({'text_id': rand_ids[current_ind],\n",
    "                             \"text\": f\"Question: {question}\"})\n",
    "        corpus_data.append(f\"{rand_ids[current_ind]}\\t{passage}\")\n",
    "        current_ind += 1"
   ]
  },
  {
   "cell_type": "code",
   "execution_count": 13,
   "id": "9ad1c2bd",
   "metadata": {},
   "outputs": [],
   "source": [
    "with open(f'{save_dir}/msmarco_DSI_train_data.json', 'w') as tf, \\\n",
    "        open(f'{save_dir}/msmarco_DSI_dev_data.json', 'w') as df:\n",
    "    [tf.write(json.dumps(item) + '\\n') for item in DSI_train_data]\n",
    "    [df.write(json.dumps(item) + '\\n') for item in DSI_dev_data]\n",
    "\n",
    "with open(f'{save_dir}/msmarco_corpus.tsv', 'w') as f:\n",
    "    [f.write(item + '\\n') for item in corpus_data]"
   ]
  },
  {
   "cell_type": "code",
   "execution_count": null,
   "id": "4353a4ae",
   "metadata": {},
   "outputs": [],
   "source": []
  }
 ],
 "metadata": {
  "kernelspec": {
   "display_name": "Python [conda env:pyserini]",
   "language": "python",
   "name": "conda-env-pyserini-py"
  },
  "language_info": {
   "codemirror_mode": {
    "name": "ipython",
    "version": 3
   },
   "file_extension": ".py",
   "mimetype": "text/x-python",
   "name": "python",
   "nbconvert_exporter": "python",
   "pygments_lexer": "ipython3",
   "version": "3.8.13"
  }
 },
 "nbformat": 4,
 "nbformat_minor": 5
}
